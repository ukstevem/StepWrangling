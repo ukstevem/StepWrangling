{
 "cells": [
  {
   "cell_type": "code",
   "execution_count": 1,
   "id": "c86e9c8a-6734-4d3a-b0cf-90b41ef38800",
   "metadata": {
    "editable": true,
    "slideshow": {
     "slide_type": ""
    },
    "tags": []
   },
   "outputs": [
    {
     "name": "stdout",
     "output_type": "stream",
     "text": [
      "pyside6 backend - Qt version 6.8.3\n"
     ]
    }
   ],
   "source": [
    "%gui qt\n",
    "%load_ext autoreload\n",
    "%autoreload 2\n",
    "    \n",
    "from OCC.Core.STEPControl import STEPControl_Reader\n",
    "from OCC.Core.BRepBndLib import brepbndlib\n",
    "from OCC.Core.Bnd import Bnd_OBB\n",
    "from OCC.Core.BRepBuilderAPI import (\n",
    "    BRepBuilderAPI_Transform,\n",
    "    BRepBuilderAPI_MakeEdge,\n",
    "    BRepBuilderAPI_MakeWire,\n",
    "    BRepBuilderAPI_MakeFace\n",
    ")\n",
    "from OCC.Core.BRepAlgoAPI import BRepAlgoAPI_Section\n",
    "from OCC.Core.BRepGProp import brepgprop\n",
    "from OCC.Core.GProp import GProp_GProps\n",
    "from OCC.Core.TopAbs import TopAbs_WIRE, TopAbs_EDGE\n",
    "from OCC.Core.TopoDS import TopoDS_Compound, TopoDS_Wire\n",
    "from OCC.Core.TopExp import TopExp_Explorer\n",
    "from OCC.Core.gp import gp_Trsf, gp_Pnt, gp_Ax3, gp_Dir, gp_Pln, gp_Vec\n",
    "from OCC.Display.SimpleGui import init_display\n",
    "from IPython.display import display\n",
    "from IPython.display import display, HTML\n",
    "\n",
    "import numpy as np\n",
    "import json\n",
    "\n",
    "DSTV_FACE_MAP = {'I':['O','U','V'], 'U':['H','U','O'], 'L':['H','U']}\n",
    "\n",
    "# Start display without blocking\n",
    "viewer, start_display, add_menu, add_function_to_menu = init_display()\n",
    "\n",
    "# JSON Library path\n",
    "json_path = \"../data/Shape_classifier_info.json\"\n",
    "\n",
    "viewer.EraseAll()\n",
    "viewer.View_Iso()\n",
    "viewer.FitAll()"
   ]
  },
  {
   "cell_type": "code",
   "execution_count": 2,
   "id": "0a58198e-ce61-45ae-9e92-0eca89fbea12",
   "metadata": {
    "editable": true,
    "slideshow": {
     "slide_type": ""
    },
    "tags": []
   },
   "outputs": [],
   "source": [
    "# Load the STEP and extract 'solid'\n",
    "def load_step(file_path: str):\n",
    "    reader = STEPControl_Reader()\n",
    "    status = reader.ReadFile(file_path)\n",
    "    if status != 1:\n",
    "        raise RuntimeError(f\"Failed to read STEP file: {file_path}\")\n",
    "    reader.TransferRoots()\n",
    "    return reader.Shape()"
   ]
  },
  {
   "cell_type": "code",
   "execution_count": 3,
   "id": "12fa1b0a-5acf-45de-bea9-2ffaed10accf",
   "metadata": {
    "editable": true,
    "slideshow": {
     "slide_type": ""
    },
    "tags": []
   },
   "outputs": [],
   "source": [
    "def visualize(shape, obb, display, color=\"CYAN\", clear=True):\n",
    "    \"\"\"\n",
    "    Displays a shape with global XYZ axes and OBB extents.\n",
    "    \n",
    "    Args:\n",
    "        shape: The TopoDS_Shape to display.\n",
    "        obb: The associated OBB object for size/scale reference.\n",
    "        display: OCC display handle (e.g., from init_display()).\n",
    "        color: Optional color for the shape.\n",
    "        clear: If True, erase all previous shapes before displaying.\n",
    "    \"\"\"\n",
    "    # if clear:\n",
    "    #     viewer.EraseAll()\n",
    "\n",
    "    # Display the shape\n",
    "    viewer.DisplayShape(shape, color=color, update=False)\n",
    "\n",
    "    # Draw global axes\n",
    "    origin = gp_Pnt(0, 0, 0)\n",
    "    scale = max(2 * obb.XHSize(), 2 * obb.YHSize(), 2 * obb.ZHSize()) * 0.5\n",
    "\n",
    "    # Axis lines\n",
    "    axes = [\n",
    "        ((scale, 0, 0), \"RED\"),\n",
    "        ((0, scale, 0), \"GREEN\"),\n",
    "        ((0, 0, scale), \"BLUE\")\n",
    "    ]\n",
    "\n",
    "    for vec, axis_color in axes:\n",
    "        end = gp_Pnt(*vec)\n",
    "        edge = BRepBuilderAPI_MakeEdge(origin, end).Edge()\n",
    "        viewer.DisplayShape(edge, color=axis_color, update=False)\n",
    "\n",
    "    viewer.FitAll()\n",
    "\n"
   ]
  },
  {
   "cell_type": "code",
   "execution_count": 4,
   "id": "e93dbf4d-669d-4bdb-97af-4b437f39db44",
   "metadata": {},
   "outputs": [],
   "source": [
    "from OCC.Core.BRepBuilderAPI import BRepBuilderAPI_MakeEdge\n",
    "\n",
    "def draw_obb_box(obb, viewer, color=\"ORANGE\", update=True):\n",
    "    \"\"\"\n",
    "    Draws the 12 edges of the OBB as lines in the viewer.\n",
    "    \"\"\"\n",
    "    c = obb.Center()\n",
    "    cx, cy, cz = c.X(), c.Y(), c.Z()\n",
    "    hx, hy, hz = obb.XHSize(), obb.YHSize(), obb.ZHSize()\n",
    "    dx, dy, dz = obb.XDirection(), obb.YDirection(), obb.ZDirection()\n",
    "\n",
    "    # Precompute corner offsets\n",
    "    offsets = [\n",
    "        (+hx, +hy, +hz), (-hx, +hy, +hz), (-hx, -hy, +hz), (+hx, -hy, +hz),\n",
    "        (+hx, +hy, -hz), (-hx, +hy, -hz), (-hx, -hy, -hz), (+hx, -hy, -hz)\n",
    "    ]\n",
    "\n",
    "    # Compute corners\n",
    "    corners = []\n",
    "    for ox, oy, oz in offsets:\n",
    "        x = cx + ox * dx.X() + oy * dy.X() + oz * dz.X()\n",
    "        y = cy + ox * dx.Y() + oy * dy.Y() + oz * dz.Y()\n",
    "        z = cz + ox * dx.Z() + oy * dy.Z() + oz * dz.Z()\n",
    "        corners.append(gp_Pnt(x, y, z))\n",
    "\n",
    "    # Define edges by corner indices\n",
    "    edges_idx = [\n",
    "        (0, 1), (1, 2), (2, 3), (3, 0),  # top face\n",
    "        (4, 5), (5, 6), (6, 7), (7, 4),  # bottom face\n",
    "        (0, 4), (1, 5), (2, 6), (3, 7),  # vertical edges\n",
    "    ]\n",
    "\n",
    "    for i1, i2 in edges_idx:\n",
    "        edge = BRepBuilderAPI_MakeEdge(corners[i1], corners[i2]).Edge()\n",
    "        viewer.DisplayShape(edge, color=color, update=False)\n",
    "\n",
    "    if update:\n",
    "        viewer.FitAll()"
   ]
  },
  {
   "cell_type": "code",
   "execution_count": 5,
   "id": "8a99b56f-6a32-45b5-af3e-d7178aa878ff",
   "metadata": {},
   "outputs": [],
   "source": [
    "def compute_obb(shape):\n",
    "    \"\"\"\n",
    "    Compute the Oriented Bounding Box for a shape.\n",
    "    Returns a Bnd_OBB instance.\n",
    "    \"\"\"\n",
    "    obb = Bnd_OBB()\n",
    "    brepbndlib.AddOBB(shape, obb)\n",
    "    return obb"
   ]
  },
  {
   "cell_type": "code",
   "execution_count": 6,
   "id": "8c20312a-347e-48fc-8a27-0b27e89d9051",
   "metadata": {
    "editable": true,
    "slideshow": {
     "slide_type": ""
    },
    "tags": []
   },
   "outputs": [],
   "source": [
    "def draw_obb_axes(obb, viewer, scale=500):\n",
    "    \"\"\"\n",
    "    Visualize the X, Y, Z axes of the OBB in the viewer as arrows.\n",
    "    \"\"\"\n",
    "    from OCC.Core.gp import gp_Pnt\n",
    "    from OCC.Core.BRepBuilderAPI import BRepBuilderAPI_MakeEdge\n",
    "\n",
    "    origin_xyz = obb.Center()\n",
    "    origin = gp_Pnt(origin_xyz.X(), origin_xyz.Y(), origin_xyz.Z())\n",
    "\n",
    "    axes = [\n",
    "        (obb.XDirection(), \"RED\"),\n",
    "        (obb.YDirection(), \"GREEN\"),\n",
    "        (obb.ZDirection(), \"BLUE\"),\n",
    "    ]\n",
    "\n",
    "    for dir_vec, color in axes:\n",
    "        end = gp_Pnt(\n",
    "            origin.X() + scale * dir_vec.X(),\n",
    "            origin.Y() + scale * dir_vec.Y(),\n",
    "            origin.Z() + scale * dir_vec.Z()\n",
    "        )\n",
    "        edge = BRepBuilderAPI_MakeEdge(origin, end).Edge()\n",
    "        viewer.DisplayShape(edge, color=color, update=False)\n",
    "\n",
    "    viewer.FitAll()\n"
   ]
  },
  {
   "cell_type": "code",
   "execution_count": 7,
   "id": "f2cde11d-a66e-4771-8fff-cc00762af968",
   "metadata": {
    "editable": true,
    "slideshow": {
     "slide_type": ""
    },
    "tags": []
   },
   "outputs": [
    {
     "name": "stdout",
     "output_type": "stream",
     "text": [
      "Many colors for color name CYAN, using first.\n",
      "Many colors for color name BLUE, using first.\n",
      "Many colors for color name BLUE, using first.\n"
     ]
    }
   ],
   "source": [
    "if __name__ == \"__main__\":\n",
    "\n",
    "    step_path = \"../data/0444-1 ANGLED.step\"\n",
    "    # step_path = \"../data/ncTest.step\"\n",
    "    # step_path = \"../data/TestEA.step\"\n",
    "    # step_path = \"../data/TestEAMirror.step\"\n",
    "    # step_path = \"../data/TestUEA.step\"\n",
    "    # step_path = \"../data/TestUEAMirror.step\"\n",
    "    # step_path = \"../data/TestPFC.step\"\n",
    "    \n",
    "    # Load shape and compute OBB once\n",
    "    shape_orig = load_step(step_path)\n",
    "    obb_orig = compute_obb(shape_orig)\n",
    "\n",
    "    # visualize(shape_orig, obb_orig, viewer)\n",
    "    visualize(shape_orig, obb_orig, viewer)\n",
    "    draw_obb_box(obb_orig, viewer, color=\"ORANGE\")\n",
    "    draw_obb_axes(obb_orig, viewer, scale=500)\n",
    "    \n"
   ]
  }
 ],
 "metadata": {
  "kernelspec": {
   "display_name": "Python 3 (ipykernel)",
   "language": "python",
   "name": "python3"
  },
  "language_info": {
   "codemirror_mode": {
    "name": "ipython",
    "version": 3
   },
   "file_extension": ".py",
   "mimetype": "text/x-python",
   "name": "python",
   "nbconvert_exporter": "python",
   "pygments_lexer": "ipython3",
   "version": "3.11.11"
  }
 },
 "nbformat": 4,
 "nbformat_minor": 5
}
