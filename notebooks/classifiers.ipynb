{
 "cells": [
  {
   "cell_type": "code",
   "execution_count": 1,
   "id": "2e01bd3a-7cd8-459a-963d-343a226a2dc6",
   "metadata": {},
   "outputs": [
    {
     "name": "stdout",
     "output_type": "stream",
     "text": [
      "Done!\n"
     ]
    }
   ],
   "source": [
    "from IPython.display import display, Image\n",
    "import ipywidgets as widgets\n",
    "import shutil\n",
    "import os\n",
    "\n",
    "image_paths = sorted([f for f in os.listdir(\"previews/solids\") if f.endswith(\".png\")])\n",
    "current = 0\n",
    "\n",
    "def move_to_label(label):\n",
    "    global current\n",
    "    src = os.path.join(\"previews/solids\", image_paths[current])\n",
    "    dst_dir = os.path.join(\"labeled\", label)\n",
    "    os.makedirs(dst_dir, exist_ok=True)\n",
    "    shutil.move(src, os.path.join(dst_dir, image_paths[current]))\n",
    "    current += 1\n",
    "    show_next()\n",
    "\n",
    "def show_next():\n",
    "    if current >= len(image_paths):\n",
    "        print(\"Done!\")\n",
    "        return\n",
    "    display(Image(filename=os.path.join(\"previews/solids\", image_paths[current]), width=300))\n",
    "    display(widgets.HBox([widgets.Button(description=lbl, on_click=lambda b, lbl=lbl: move_to_label(lbl)) \n",
    "                          for lbl in [\"beam\", \"column\", \"angle\", \"plate\", \"bolt\", \"nut\", \"unknown\"]]))\n",
    "\n",
    "show_next()\n"
   ]
  },
  {
   "cell_type": "code",
   "execution_count": null,
   "id": "3cf0dfdf-04b4-40ec-8722-a2ac59bc5eb6",
   "metadata": {},
   "outputs": [],
   "source": []
  }
 ],
 "metadata": {
  "kernelspec": {
   "display_name": "Python 3 (ipykernel)",
   "language": "python",
   "name": "python3"
  },
  "language_info": {
   "codemirror_mode": {
    "name": "ipython",
    "version": 3
   },
   "file_extension": ".py",
   "mimetype": "text/x-python",
   "name": "python",
   "nbconvert_exporter": "python",
   "pygments_lexer": "ipython3",
   "version": "3.11.11"
  }
 },
 "nbformat": 4,
 "nbformat_minor": 5
}
