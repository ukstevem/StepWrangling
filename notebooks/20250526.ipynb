{
 "cells": [
  {
   "cell_type": "code",
   "execution_count": 1,
   "id": "d9625673-a9a5-4831-8c3c-c63874160de4",
   "metadata": {
    "editable": true,
    "slideshow": {
     "slide_type": ""
    },
    "tags": []
   },
   "outputs": [
    {
     "name": "stdout",
     "output_type": "stream",
     "text": [
      "pyside6 backend - Qt version 6.8.3\n"
     ]
    }
   ],
   "source": [
    "%gui qt\n",
    "\n",
    "from OCC.Core.STEPControl import STEPControl_Reader\n",
    "from OCC.Core.BRepBndLib import brepbndlib\n",
    "from OCC.Core.Bnd import Bnd_OBB\n",
    "from OCC.Core.BRepBuilderAPI import (\n",
    "    BRepBuilderAPI_Transform,\n",
    "    BRepBuilderAPI_MakeEdge,\n",
    "    BRepBuilderAPI_MakeWire,\n",
    "    BRepBuilderAPI_MakeFace\n",
    ")\n",
    "from OCC.Core.BRepAlgoAPI import BRepAlgoAPI_Section\n",
    "from OCC.Core.BRepGProp import brepgprop\n",
    "from OCC.Core.GProp import GProp_GProps\n",
    "from OCC.Core.TopoDS import TopoDS_Compound, TopoDS_Wire\n",
    "from OCC.Core.TopExp import TopExp_Explorer\n",
    "from OCC.Core.gp import gp_Trsf, gp_Pnt, gp_Ax3, gp_Dir, gp_Pln, gp_Vec\n",
    "from OCC.Display.SimpleGui import init_display\n",
    "\n",
    "import numpy as np\n",
    "import json\n",
    "\n",
    "\n",
    "DSTV_FACE_MAP = {'I':['O','U','V'], 'U':['H','U','O'], 'L':['H','U']}\n",
    "\n",
    "# Start display without blocking\n",
    "display, start_display, add_menu, add_function_to_menu = init_display()\n",
    "\n",
    "# JSON Library path\n",
    "json_path = \"../data/Shape_classifier_info.json\"\n",
    "\n",
    "display.EraseAll()\n",
    "display.View_Iso()\n",
    "display.FitAll()"
   ]
  },
  {
   "cell_type": "code",
   "execution_count": 2,
   "id": "164fa680-0a21-4185-bc12-1439fe1854f2",
   "metadata": {
    "editable": true,
    "slideshow": {
     "slide_type": ""
    },
    "tags": []
   },
   "outputs": [],
   "source": [
    "# Load the STEP and extract 'solid'\n",
    "def load_step(file_path: str):\n",
    "    reader = STEPControl_Reader()\n",
    "    status = reader.ReadFile(file_path)\n",
    "    if status != 1:\n",
    "        raise RuntimeError(f\"Failed to read STEP file: {file_path}\")\n",
    "    reader.TransferRoots()\n",
    "    return reader.Shape()"
   ]
  },
  {
   "cell_type": "code",
   "execution_count": 3,
   "id": "344b9bb9-c2fe-474a-8ff8-0ed94bd52849",
   "metadata": {},
   "outputs": [],
   "source": [
    "def compute_obb(shape):\n",
    "    \"\"\"\n",
    "    Compute the Oriented Bounding Box for a shape.\n",
    "    Returns a Bnd_OBB instance.\n",
    "    \"\"\"\n",
    "    obb = Bnd_OBB()\n",
    "    brepbndlib.AddOBB(shape, obb)\n",
    "    return obb"
   ]
  },
  {
   "cell_type": "code",
   "execution_count": 4,
   "id": "09cd0fb6-1ccf-4c3f-8a2f-ca2a97c7cfeb",
   "metadata": {
    "editable": true,
    "slideshow": {
     "slide_type": ""
    },
    "tags": []
   },
   "outputs": [],
   "source": [
    "def transform_to_global_origin(shape, obb):\n",
    "    \"\"\"\n",
    "    Rotate solid to align with global axes and move start face to (0,0,0).\n",
    "    \"\"\"\n",
    "\n",
    "    # Step 1: Rotation alignment using OBB axes\n",
    "    c     = obb.Center()\n",
    "    x_vec = obb.XDirection()\n",
    "    y_vec = obb.YDirection()\n",
    "    z_vec = obb.ZDirection()\n",
    "    x_d   = gp_Dir(x_vec)\n",
    "    y_d   = gp_Dir(y_vec)\n",
    "    z_d   = gp_Dir(z_vec)\n",
    "\n",
    "    localCS  = gp_Ax3(gp_Pnt(c.X(), c.Y(), c.Z()), z_d, x_d)\n",
    "    globalCS = gp_Ax3(gp_Pnt(0, 0, 0), gp_Dir(0, 0, 1), gp_Dir(1, 0, 0))\n",
    "\n",
    "    trsf_rot = gp_Trsf()\n",
    "    trsf_rot.SetTransformation(localCS, globalCS)\n",
    "    rotated = BRepBuilderAPI_Transform(shape, trsf_rot, True).Shape()\n",
    "\n",
    "    # Step 2: Translate so the min-Z corner lies at origin\n",
    "    obb_rotated = Bnd_OBB()\n",
    "    brepbndlib.AddOBB(rotated, obb_rotated)\n",
    "\n",
    "    center_rot = obb_rotated.Center()\n",
    "    z_axis = obb_rotated.ZDirection()\n",
    "    x_axis = obb_rotated.XDirection()\n",
    "    y_axis = obb_rotated.YDirection()\n",
    "    hx, hy, hz = obb_rotated.XHSize(), obb_rotated.YHSize(), obb_rotated.ZHSize()\n",
    "\n",
    "    min_corner = gp_Pnt(\n",
    "        center_rot.X() - hx * x_axis.X() - hy * y_axis.X() - hz * z_axis.X(),\n",
    "        center_rot.Y() - hx * x_axis.Y() - hy * y_axis.Y() - hz * z_axis.Y(),\n",
    "        center_rot.Z() - hx * x_axis.Z() - hy * y_axis.Z() - hz * z_axis.Z()\n",
    "    )\n",
    "\n",
    "    shift_vec = gp_Vec(min_corner, gp_Pnt(0, 0, 0))\n",
    "    trsf_shift = gp_Trsf()\n",
    "    trsf_shift.SetTranslation(shift_vec)\n",
    "\n",
    "    transformed = BRepBuilderAPI_Transform(rotated, trsf_shift, True).Shape()\n",
    "    return transformed\n"
   ]
  },
  {
   "cell_type": "code",
   "execution_count": 5,
   "id": "efe342f6-d57d-4a8c-af34-48945a5de614",
   "metadata": {},
   "outputs": [],
   "source": [
    "def rotate_z_90(shape):\n",
    "    \"\"\"\n",
    "    Rotates the shape 90 degrees about the global Z axis.\n",
    "    \"\"\"\n",
    "    from OCC.Core.gp import gp_Trsf\n",
    "    from OCC.Core.BRepBuilderAPI import BRepBuilderAPI_Transform\n",
    "    from math import pi\n",
    "\n",
    "    trsf = gp_Trsf()\n",
    "    trsf.SetRotation(gp_Ax3().Axis(), pi / 2.0)  # 90° about Z\n",
    "    rotated = BRepBuilderAPI_Transform(shape, trsf, True).Shape()\n",
    "    return rotated"
   ]
  },
  {
   "cell_type": "code",
   "execution_count": 6,
   "id": "fc84ef30-8791-4301-97c1-daebfdb5a974",
   "metadata": {},
   "outputs": [],
   "source": [
    "def fingerprint_shape(shape, obb):\n",
    "    \"\"\"\n",
    "    Compute width, height, and CSA of the cross-section.\n",
    "    Attempts wire-based CSA first; falls back to building from edges if needed.\n",
    "    \"\"\"\n",
    "    from OCC.Core.TopExp import TopExp_Explorer\n",
    "    from OCC.Core.TopAbs import TopAbs_WIRE, TopAbs_EDGE\n",
    "    from OCC.Core.BRepBuilderAPI import BRepBuilderAPI_MakeWire\n",
    "\n",
    "    half_sizes = [obb.XHSize(), obb.YHSize(), obb.ZHSize()]\n",
    "    length_idx = max(range(3), key=lambda i: half_sizes[i])\n",
    "    dims = [2 * h for h in half_sizes]\n",
    "    width, height = sorted([dims[i] for i in range(3) if i != length_idx], reverse=True)\n",
    "\n",
    "    center_xyz = obb.Center()\n",
    "    center = gp_Pnt(center_xyz.X(), center_xyz.Y(), center_xyz.Z())\n",
    "    dir_map = [obb.XDirection(), obb.YDirection(), obb.ZDirection()]\n",
    "    normal = gp_Dir(dir_map[length_idx])\n",
    "    plane = gp_Pln(center, normal)\n",
    "\n",
    "    section = BRepAlgoAPI_Section(shape, plane, True)\n",
    "    section.ComputePCurveOn1(True)\n",
    "    section.Approximation(True)\n",
    "    section.Build()\n",
    "\n",
    "    compound = section.Shape()\n",
    "\n",
    "    # Try wire-based approach first\n",
    "    exp = TopExp_Explorer(compound, TopAbs_WIRE)\n",
    "    if exp.More():\n",
    "        wire = exp.Current()\n",
    "    else:\n",
    "        # Fallback: build wire from edges\n",
    "        edge_exp = TopExp_Explorer(compound, TopAbs_EDGE)\n",
    "        wire_builder = BRepBuilderAPI_MakeWire()\n",
    "        edge_count = 0\n",
    "        while edge_exp.More():\n",
    "            edge = edge_exp.Current()\n",
    "            wire_builder.Add(edge)\n",
    "            edge_exp.Next()\n",
    "            edge_count += 1\n",
    "\n",
    "        if edge_count == 0:\n",
    "            raise RuntimeError(\"No wire or edge found in section result\")\n",
    "        if not wire_builder.IsDone():\n",
    "            raise RuntimeError(\"Failed to build wire from edges\")\n",
    "\n",
    "        wire = wire_builder.Wire()\n",
    "\n",
    "    # Build face from wire and compute area\n",
    "    face = BRepBuilderAPI_MakeFace(plane, wire, True).Face()\n",
    "    props = GProp_GProps()\n",
    "    brepgprop.SurfaceProperties(face, props)\n",
    "    area = props.Mass()\n",
    "    return width, height, area\n"
   ]
  },
  {
   "cell_type": "code",
   "execution_count": 7,
   "id": "f342104d-7cae-4a21-b539-ce266ad6401f",
   "metadata": {},
   "outputs": [],
   "source": [
    "def visualize(shape, obb, display):\n",
    "    \"\"\"\n",
    "    Display shape aligned to global origin, with axes, on the provided viewer.\n",
    "    \"\"\"\n",
    "    transformed = transform_to_global_origin(shape, obb)\n",
    "    # Determine scale for axes from OBB extents\n",
    "    dims = [2*obb.XHSize(), 2*obb.YHSize(), 2*obb.ZHSize()]\n",
    "    scale = max(dims) * 0.5\n",
    "    # Show aligned solid\n",
    "    display.DisplayShape(transformed, update=False)\n",
    "    # Draw axes\n",
    "    origin = gp_Pnt(0, 0, 0)\n",
    "    for vec, color in [((scale,0,0), \"RED\"), ((0,scale,0), \"GREEN\"), ((0,0,scale), \"BLUE\")]:\n",
    "        edge = BRepBuilderAPI_MakeEdge(origin, gp_Pnt(*vec)).Edge()\n",
    "        display.DisplayShape(edge, color=color, update=False)\n",
    "\n"
   ]
  },
  {
   "cell_type": "code",
   "execution_count": 8,
   "id": "b8e89a61-35b8-40ee-817e-06211961d406",
   "metadata": {
    "editable": true,
    "slideshow": {
     "slide_type": ""
    },
    "tags": []
   },
   "outputs": [],
   "source": [
    "def classify_profile(cs, json_path, tol_dim=1.0, tol_area=0.05):\n",
    "    \"\"\"\n",
    "    Attempts to classify a structural profile by matching its dimensions and area.\n",
    "    Tries both the original and swapped width/height to handle OBB axis flips.\n",
    "    \"\"\"\n",
    "    with open(json_path) as f:\n",
    "        lib = json.load(f)\n",
    "    def try_match(height, width):\n",
    "        best, best_score = None, float('inf')\n",
    "        for cat, ents in lib.items():\n",
    "            for name, info in ents.items():\n",
    "                dh = abs(height - info[\"height\"])\n",
    "                dw = abs(width  - info[\"width\"])\n",
    "                if dh > tol_dim or dw > tol_dim:\n",
    "                    continue\n",
    "                ea = abs(cs[\"area\"] - info[\"csa\"]) / info[\"csa\"]\n",
    "                if ea > tol_area:\n",
    "                    continue\n",
    "                el = abs(cs[\"length\"] - info.get(\"length\", cs[\"length\"])) / info.get(\"length\", cs[\"length\"])\n",
    "                score = dh + dw + ea * 100 + el * 100\n",
    "                if score < best_score:\n",
    "                    best_score = score\n",
    "                    best = {\n",
    "                        **info,\n",
    "                        \"Designation\": name,\n",
    "                        \"Category\": cat,\n",
    "                        \"Measured_height\": height,\n",
    "                        \"Measured_width\": width,\n",
    "                        \"Measured_area\": cs[\"area\"],\n",
    "                        \"Measured_length\": cs[\"length\"],\n",
    "                        \"Match_score\": score,\n",
    "                        \"Profile_type\": cs.get(\"profile_type\", \"Unknown\")\n",
    "                    }\n",
    "        return best, best_score\n",
    "\n",
    "    # Try both normal and swapped width/height\n",
    "    original, score1 = try_match(cs[\"span_web\"], cs[\"span_flange\"])\n",
    "    swapped, score2  = try_match(cs[\"span_flange\"], cs[\"span_web\"])\n",
    "\n",
    "    if original and (not swapped or score1 <= score2):\n",
    "        swapped[\"Swapped_dimensions\"] = False\n",
    "        return original\n",
    "    elif swapped:\n",
    "        swapped[\"Swapped_dimensions\"] = True\n",
    "        return swapped\n",
    "    else:\n",
    "        return None"
   ]
  },
  {
   "cell_type": "code",
   "execution_count": 9,
   "id": "e08c4f92-9aeb-4f13-a89d-31384585efac",
   "metadata": {},
   "outputs": [],
   "source": [
    "def build_classification_input(obb, width, height, area):\n",
    "    \"\"\"\n",
    "    Constructs a classification-friendly dictionary using globally aligned OBB.\n",
    "    Assumes the solid is aligned with Z as the length direction.\n",
    "    \"\"\"\n",
    "    length = 2 * obb.ZHSize()\n",
    "    return {\n",
    "        \"span_web\": height,\n",
    "        \"span_flange\": width,\n",
    "        \"area\": area,\n",
    "        \"length\": length,\n",
    "    }"
   ]
  },
  {
   "cell_type": "code",
   "execution_count": 10,
   "id": "e75083ee-3667-4e04-8de5-b35818173182",
   "metadata": {
    "editable": true,
    "scrolled": true,
    "slideshow": {
     "slide_type": ""
    },
    "tags": []
   },
   "outputs": [
    {
     "name": "stdout",
     "output_type": "stream",
     "text": [
      "Many colors for color name BLUE, using first.\n",
      "Width: 100.122, Height: 50.054, CSA: 1299.766\n",
      "OBB extents before rotation:\n",
      "X: 50.053692161039095\n",
      "Y: 100.1224026380103\n",
      "Z: 1000.0135754058629\n",
      "{'mass': 10.20315915547705, 'height': 100.0, 'width': 50.0, 'csa': 1300.0, 'web_thickness': 5.0, 'flange_thickness': 8.5, 'root_radius': 9.0, 'toe_radius': 0.0, 'code_profile': 'U', 'Designation': '100x50x10', 'Category': 'PFC', 'Measured_height': 100.1224026380103, 'Measured_width': 50.053692161039095, 'Measured_area': 1299.7655045080442, 'Measured_length': 1000.0135754058629, 'Match_score': 0.1941329138152285, 'Profile_type': 'Unknown', 'Swapped_dimensions': True}\n"
     ]
    }
   ],
   "source": [
    "if __name__ == \"__main__\":\n",
    "\n",
    "    # step_path = \"../data/0444-1 ANGLED.step\"\n",
    "    # step_path = \"../data/ncTest.step\"\n",
    "    # step_path = \"../data/TestEA.step\"\n",
    "    # step_path = \"../data/TestEAMirror.step\"\n",
    "    # step_path = \"../data/TestUEA.step\"\n",
    "    # step_path = \"../data/TestUEAMirror.step\"\n",
    "    step_path = \"../data/TestPFC.step\"\n",
    "    \n",
    "    # Load shape and compute OBB once\n",
    "    shape_orig = load_step(step_path)\n",
    "    obb_orig = compute_obb(shape_orig)\n",
    "    shape_aligned = transform_to_global_origin(shape_orig, obb_orig)\n",
    "    obb_aligned = compute_obb(shape_aligned)\n",
    "\n",
    "    \n",
    "    visualize(shape_aligned, obb_aligned, display)\n",
    "    display.FitAll()\n",
    "\n",
    "    width, height, area = fingerprint_shape(shape_aligned, obb_aligned)\n",
    "    print(f\"Width: {width:.3f}, Height: {height:.3f}, CSA: {area:.3f}\")\n",
    "\n",
    "    print(\"OBB extents before rotation:\")\n",
    "    print(\"X:\", 2 * obb_aligned.XHSize())\n",
    "    print(\"Y:\", 2 * obb_aligned.YHSize())\n",
    "    print(\"Z:\", 2 * obb_aligned.ZHSize())\n",
    "\n",
    "    cs = build_classification_input(obb_aligned, width, height, area)\n",
    "\n",
    "    result = classify_profile(cs, json_path)\n",
    "\n",
    "    print(result)\n"
   ]
  },
  {
   "cell_type": "code",
   "execution_count": 11,
   "id": "32311cf9-32a3-40d0-b349-fbb9ab065a12",
   "metadata": {
    "editable": true,
    "slideshow": {
     "slide_type": ""
    },
    "tags": []
   },
   "outputs": [
    {
     "name": "stdout",
     "output_type": "stream",
     "text": [
      "Swapped dimensions detected — rotating 90° about Z.\n",
      "Many colors for color name BLUE, using first.\n"
     ]
    }
   ],
   "source": [
    "if result.get(\"Swapped_dimensions\"):\n",
    "    print(\"Swapped dimensions detected — rotating 90° about Z.\")\n",
    "    shape_aligned = rotate_z_90(shape_aligned)\n",
    "    obb_aligned = compute_obb(shape_aligned) \n",
    "\n",
    "    #clear display and show new orientation\n",
    "    display.EraseAll()  # clear previous shapes and axes\n",
    "    visualize(shape_aligned, obb_aligned, display)\n",
    "    display.FitAll()"
   ]
  },
  {
   "cell_type": "code",
   "execution_count": 12,
   "id": "2e609322-58ef-469b-a4de-a07f604ccbcf",
   "metadata": {},
   "outputs": [
    {
     "name": "stdout",
     "output_type": "stream",
     "text": [
      "Width: 100.122, Height: 50.054, CSA: 1299.766\n",
      "OBB extents after rotation:\n",
      "X: 50.05369216103912\n",
      "Y: 100.12240263801037\n",
      "Z: 1000.0135754058629\n",
      "{'mass': 10.20315915547705, 'height': 100.0, 'width': 50.0, 'csa': 1300.0, 'web_thickness': 5.0, 'flange_thickness': 8.5, 'root_radius': 9.0, 'toe_radius': 0.0, 'code_profile': 'U', 'Designation': '100x50x10', 'Category': 'PFC', 'Measured_height': 100.12240263801037, 'Measured_width': 50.05369216103912, 'Measured_area': 1299.7655003157045, 'Measured_length': 1000.0135754058629, 'Match_score': 0.19413323630299736, 'Profile_type': 'Unknown', 'Swapped_dimensions': True}\n"
     ]
    }
   ],
   "source": [
    "# Rerun fingerprint & classifier to confirm results\n",
    "\n",
    "width, height, area = fingerprint_shape(shape_aligned, obb_aligned)\n",
    "print(f\"Width: {width:.3f}, Height: {height:.3f}, CSA: {area:.3f}\")\n",
    "cs = build_classification_input(obb_aligned, width, height, area)\n",
    "result = classify_profile(cs, json_path)\n",
    "\n",
    "print(\"OBB extents after rotation:\")\n",
    "print(\"X:\", 2 * obb_aligned.XHSize())\n",
    "print(\"Y:\", 2 * obb_aligned.YHSize())\n",
    "print(\"Z:\", 2 * obb_aligned.ZHSize())\n",
    "\n",
    "print(result)"
   ]
  }
 ],
 "metadata": {
  "kernelspec": {
   "display_name": "Python 3 (ipykernel)",
   "language": "python",
   "name": "python3"
  },
  "language_info": {
   "codemirror_mode": {
    "name": "ipython",
    "version": 3
   },
   "file_extension": ".py",
   "mimetype": "text/x-python",
   "name": "python",
   "nbconvert_exporter": "python",
   "pygments_lexer": "ipython3",
   "version": "3.11.11"
  }
 },
 "nbformat": 4,
 "nbformat_minor": 5
}
