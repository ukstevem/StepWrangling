{
 "cells": [
  {
   "cell_type": "code",
   "execution_count": 2,
   "id": "f38b08af-7dcf-440f-b10c-7b6490ce3fc5",
   "metadata": {},
   "outputs": [
    {
     "name": "stdout",
     "output_type": "stream",
     "text": [
      "✅ Wrote 8 designations to output.json\n"
     ]
    }
   ],
   "source": [
    "import pandas as pd\n",
    "import json\n",
    "\n",
    "# If you haven’t yet: read your “flat” sheet into df:\n",
    "df = pd.read_excel('structural.xlsx', engine='openpyxl')\n",
    "\n",
    "# Build the nested dict\n",
    "json_dict = {}\n",
    "for _, row in df.iterrows():\n",
    "    desig = str(row['Designation'])\n",
    "    size  = str(row['Size'])\n",
    "    entry = {\n",
    "        'mass':   row['Mass'],\n",
    "        'height': row['Height'],\n",
    "        'width':  row['Width'],\n",
    "        'csa': row['CSA'],\n",
    "        'web_thickness': row['web_thickness'],\n",
    "        'flange_thickness': row['flange_thickness'],\n",
    "        'root_radius': row['root_radius'],\n",
    "        'toe_radius': row['toe_radius'],\n",
    "        'code_profile': row['code_profile'],\n",
    "    }\n",
    "    # Ensure a dict exists for this designation\n",
    "    json_dict.setdefault(desig, {})[size] = entry\n",
    "\n",
    "# Write it out\n",
    "with open('output.json', 'w', encoding='utf-8') as f:\n",
    "    json.dump(json_dict, f, indent=2, ensure_ascii=False)\n",
    "\n",
    "print(f\"✅ Wrote {len(json_dict)} designations to output.json\")\n"
   ]
  },
  {
   "cell_type": "code",
   "execution_count": null,
   "id": "2534b20a-d42d-4e14-85de-b0e4420f6623",
   "metadata": {},
   "outputs": [],
   "source": []
  }
 ],
 "metadata": {
  "kernelspec": {
   "display_name": "Python 3 (ipykernel)",
   "language": "python",
   "name": "python3"
  },
  "language_info": {
   "codemirror_mode": {
    "name": "ipython",
    "version": 3
   },
   "file_extension": ".py",
   "mimetype": "text/x-python",
   "name": "python",
   "nbconvert_exporter": "python",
   "pygments_lexer": "ipython3",
   "version": "3.11.11"
  }
 },
 "nbformat": 4,
 "nbformat_minor": 5
}
